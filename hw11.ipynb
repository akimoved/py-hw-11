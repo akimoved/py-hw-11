{
 "cells": [
  {
   "cell_type": "code",
   "execution_count": null,
   "metadata": {
    "collapsed": true
   },
   "outputs": [],
   "source": [
    "import pandas as pd"
   ]
  },
  {
   "cell_type": "code",
   "execution_count": null,
   "outputs": [],
   "source": [
    "df_ratings = pd.read_csv('src/ratings.csv')"
   ],
   "metadata": {
    "collapsed": false,
    "pycharm": {
     "name": "#%%\n"
    }
   }
  },
  {
   "cell_type": "code",
   "execution_count": null,
   "outputs": [],
   "source": [
    "def film_grade(rating):\n",
    "    \"\"\"Returns film grade based on its rating\"\"\"\n",
    "\n",
    "    if rating <= 2:\n",
    "        return 'Low'\n",
    "    elif rating <= 4:\n",
    "        return 'Medium'\n",
    "    else:\n",
    "        return 'High'\n",
    "\n",
    "df_ratings['class'] = df_ratings['rating'].apply(film_grade)\n",
    "df_ratings.head()"
   ],
   "metadata": {
    "collapsed": false,
    "pycharm": {
     "name": "#%%\n"
    }
   }
  },
  {
   "cell_type": "code",
   "execution_count": null,
   "outputs": [],
   "source": [
    "df_keywords = pd.read_csv('src/keywords.csv')"
   ],
   "metadata": {
    "collapsed": false,
    "pycharm": {
     "name": "#%%\n"
    }
   }
  },
  {
   "cell_type": "code",
   "execution_count": null,
   "outputs": [],
   "source": [
    "def region_define(query):\n",
    "    \"\"\"Defines region if there is a city name in search query\"\"\"\n",
    "\n",
    "    region_dict = {'Центр': ['москва', 'тула', 'ярославль'],\n",
    "                   'Северо-Запад': ['петербург', 'псков', 'мурманск'],\n",
    "                   'Дальний Восток': ['владивосток', 'сахалин', 'хабаровск']}\n",
    "    for word in query.split(' '): # splitting search query into list\n",
    "        for region in region_dict.keys(): # iterating through region_dict keys\n",
    "            if word in region_dict[region]: # checking if word in query is in region_dict values\n",
    "                return region\n",
    "\n",
    "    return 'undefined'\n",
    "\n",
    "df_keywords['region'] = df_keywords['keyword'].apply(region_define)\n",
    "df_keywords[df_keywords['region'] != 'undefined'].head(50)"
   ],
   "metadata": {
    "collapsed": false,
    "pycharm": {
     "name": "#%%\n"
    }
   }
  },
  {
   "cell_type": "code",
   "execution_count": null,
   "outputs": [],
   "source": [
    "df_movies = pd.read_csv('src/movies.csv')\n",
    "df_ratings = pd.read_csv('src/ratings.csv')"
   ],
   "metadata": {
    "collapsed": false,
    "pycharm": {
     "name": "#%%\n"
    }
   }
  },
  {
   "cell_type": "code",
   "execution_count": null,
   "outputs": [],
   "source": [],
   "metadata": {
    "collapsed": false,
    "pycharm": {
     "name": "#%%\n"
    }
   }
  }
 ],
 "metadata": {
  "kernelspec": {
   "display_name": "Python 3",
   "language": "python",
   "name": "python3"
  },
  "language_info": {
   "codemirror_mode": {
    "name": "ipython",
    "version": 2
   },
   "file_extension": ".py",
   "mimetype": "text/x-python",
   "name": "python",
   "nbconvert_exporter": "python",
   "pygments_lexer": "ipython2",
   "version": "2.7.6"
  }
 },
 "nbformat": 4,
 "nbformat_minor": 0
}
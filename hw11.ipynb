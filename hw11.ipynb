{
 "cells": [
  {
   "cell_type": "markdown",
   "metadata": {
    "pycharm": {
     "name": "#%% md\n"
    }
   },
   "source": [
    "# Homework 11"
   ]
  },
  {
   "cell_type": "code",
   "execution_count": 2,
   "metadata": {
    "collapsed": true
   },
   "outputs": [],
   "source": [
    "import pandas as pd"
   ]
  },
  {
   "cell_type": "markdown",
   "metadata": {
    "pycharm": {
     "name": "#%% md\n"
    }
   },
   "source": [
    "## Excercise 1"
   ]
  },
  {
   "cell_type": "code",
   "execution_count": 3,
   "metadata": {
    "pycharm": {
     "name": "#%%\n"
    }
   },
   "outputs": [],
   "source": [
    "df_ratings = pd.read_csv('src/ratings.csv')"
   ]
  },
  {
   "cell_type": "code",
   "execution_count": 4,
   "metadata": {
    "pycharm": {
     "name": "#%%\n"
    }
   },
   "outputs": [
    {
     "data": {
      "text/plain": "   userId  movieId  rating   timestamp   class\n0       1       31     2.5  1260759144  Medium\n1       1     1029     3.0  1260759179  Medium\n2       1     1061     3.0  1260759182  Medium\n3       1     1129     2.0  1260759185     Low\n4       1     1172     4.0  1260759205  Medium",
      "text/html": "<div>\n<style scoped>\n    .dataframe tbody tr th:only-of-type {\n        vertical-align: middle;\n    }\n\n    .dataframe tbody tr th {\n        vertical-align: top;\n    }\n\n    .dataframe thead th {\n        text-align: right;\n    }\n</style>\n<table border=\"1\" class=\"dataframe\">\n  <thead>\n    <tr style=\"text-align: right;\">\n      <th></th>\n      <th>userId</th>\n      <th>movieId</th>\n      <th>rating</th>\n      <th>timestamp</th>\n      <th>class</th>\n    </tr>\n  </thead>\n  <tbody>\n    <tr>\n      <th>0</th>\n      <td>1</td>\n      <td>31</td>\n      <td>2.5</td>\n      <td>1260759144</td>\n      <td>Medium</td>\n    </tr>\n    <tr>\n      <th>1</th>\n      <td>1</td>\n      <td>1029</td>\n      <td>3.0</td>\n      <td>1260759179</td>\n      <td>Medium</td>\n    </tr>\n    <tr>\n      <th>2</th>\n      <td>1</td>\n      <td>1061</td>\n      <td>3.0</td>\n      <td>1260759182</td>\n      <td>Medium</td>\n    </tr>\n    <tr>\n      <th>3</th>\n      <td>1</td>\n      <td>1129</td>\n      <td>2.0</td>\n      <td>1260759185</td>\n      <td>Low</td>\n    </tr>\n    <tr>\n      <th>4</th>\n      <td>1</td>\n      <td>1172</td>\n      <td>4.0</td>\n      <td>1260759205</td>\n      <td>Medium</td>\n    </tr>\n  </tbody>\n</table>\n</div>"
     },
     "execution_count": 4,
     "metadata": {},
     "output_type": "execute_result"
    }
   ],
   "source": [
    "def film_grade(rating):\n",
    "    \"\"\"Returns film grade based on its rating\"\"\"\n",
    "\n",
    "    if rating <= 2:\n",
    "        return 'Low'\n",
    "    elif rating <= 4:\n",
    "        return 'Medium'\n",
    "    else:\n",
    "        return 'High'\n",
    "\n",
    "df_ratings['class'] = df_ratings['rating'].apply(film_grade)\n",
    "df_ratings.head()"
   ]
  },
  {
   "cell_type": "markdown",
   "metadata": {},
   "source": [
    "## Excercise 2"
   ]
  },
  {
   "cell_type": "code",
   "execution_count": 5,
   "metadata": {
    "pycharm": {
     "name": "#%%\n"
    }
   },
   "outputs": [],
   "source": [
    "df_keywords = pd.read_csv('src/keywords.csv')"
   ]
  },
  {
   "cell_type": "code",
   "execution_count": 10,
   "metadata": {
    "pycharm": {
     "name": "#%%\n"
    }
   },
   "outputs": [
    {
     "data": {
      "text/plain": "                                       keyword   shows          region\n127                               авито москва  979292           Центр\n370                   авито ру санкт петербург  425134    Северо-Запад\n849                            авито ярославль  209581           Центр\n1063                       фарпост владивосток  176951  Дальний Восток\n1236                      банк санкт петербург  174375    Северо-Запад\n1259                                    москва  153050           Центр\n1346                           санкт петербург  144232    Северо-Запад\n1396                           гисметео москва  140279           Центр\n1482                          госуслуги москва  133061           Центр\n1579                                авито тула  126168           Центр\n1682                             погода москва  151701           Центр\n2153                               авито псков   98931    Северо-Запад\n2175                            дром хабаровск   98361  Дальний Восток\n2398                            авито мурманск   89787    Северо-Запад\n2550        банк санкт петербург интернет банк   89123    Северо-Запад\n2806                  циан недвижимость москва   78729           Центр\n2974                   авто ру санкт петербург   74918    Северо-Запад\n3206                          дром владивосток   73084  Дальний Восток\n3275                        100 сп владивосток   76418  Дальний Восток\n3687                           авито хабаровск   63736  Дальний Восток\n3786                              метро москва   68024           Центр\n4888  перекресток акции москва каталог сегодня   48619           Центр\n5013                         фк спартак москва   49699           Центр\n5434                            авто ру москва   46991           Центр\n5512                        схема метро москва   62915           Центр\n5642                              погода псков   47395    Северо-Запад\n5671                     avito санкт петербург   44214    Северо-Запад\n5700    холодильник ру интернет магазин москва   44385           Центр\n5768                            спартак москва   43656           Центр\n5825  петрович санкт петербург каталог товаров   43280    Северо-Запад\n5836               мфц москва официальный сайт   43534           Центр\n5858                               владивосток   43038  Дальний Восток\n5983                         москва третий рим   43182           Центр\n6075                                 ярославль   41720           Центр\n6093              авито москва авто с пробегом   74402           Центр\n6260                         фарпост хабаровск   40962  Дальний Восток\n6338                   индекс по адресу москва   41260           Центр\n6425                слетать ру санкт петербург   39652    Северо-Запад\n6644                      бандитский петербург   38766    Северо-Запад\n6735                         мединфо ярославль   38436           Центр\n6999                                 москва 24   37459           Центр\n7090                        гисметео ярославль   37008           Центр\n7103                               москва сити   37022           Центр\n7339                    москва слезам не верит   35857           Центр\n7412               госуслуги москва pgu mos ru   35611           Центр\n7838    пятерочка акции москва каталог сегодня   35066           Центр\n7881  авито ру санкт петербург авто с пробегом   33639    Северо-Запад\n8132                             москва погода  151701           Центр\n8150              hh ru работа санкт петербург   32742    Северо-Запад\n8463                              время москва   39941           Центр",
      "text/html": "<div>\n<style scoped>\n    .dataframe tbody tr th:only-of-type {\n        vertical-align: middle;\n    }\n\n    .dataframe tbody tr th {\n        vertical-align: top;\n    }\n\n    .dataframe thead th {\n        text-align: right;\n    }\n</style>\n<table border=\"1\" class=\"dataframe\">\n  <thead>\n    <tr style=\"text-align: right;\">\n      <th></th>\n      <th>keyword</th>\n      <th>shows</th>\n      <th>region</th>\n    </tr>\n  </thead>\n  <tbody>\n    <tr>\n      <th>127</th>\n      <td>авито москва</td>\n      <td>979292</td>\n      <td>Центр</td>\n    </tr>\n    <tr>\n      <th>370</th>\n      <td>авито ру санкт петербург</td>\n      <td>425134</td>\n      <td>Северо-Запад</td>\n    </tr>\n    <tr>\n      <th>849</th>\n      <td>авито ярославль</td>\n      <td>209581</td>\n      <td>Центр</td>\n    </tr>\n    <tr>\n      <th>1063</th>\n      <td>фарпост владивосток</td>\n      <td>176951</td>\n      <td>Дальний Восток</td>\n    </tr>\n    <tr>\n      <th>1236</th>\n      <td>банк санкт петербург</td>\n      <td>174375</td>\n      <td>Северо-Запад</td>\n    </tr>\n    <tr>\n      <th>1259</th>\n      <td>москва</td>\n      <td>153050</td>\n      <td>Центр</td>\n    </tr>\n    <tr>\n      <th>1346</th>\n      <td>санкт петербург</td>\n      <td>144232</td>\n      <td>Северо-Запад</td>\n    </tr>\n    <tr>\n      <th>1396</th>\n      <td>гисметео москва</td>\n      <td>140279</td>\n      <td>Центр</td>\n    </tr>\n    <tr>\n      <th>1482</th>\n      <td>госуслуги москва</td>\n      <td>133061</td>\n      <td>Центр</td>\n    </tr>\n    <tr>\n      <th>1579</th>\n      <td>авито тула</td>\n      <td>126168</td>\n      <td>Центр</td>\n    </tr>\n    <tr>\n      <th>1682</th>\n      <td>погода москва</td>\n      <td>151701</td>\n      <td>Центр</td>\n    </tr>\n    <tr>\n      <th>2153</th>\n      <td>авито псков</td>\n      <td>98931</td>\n      <td>Северо-Запад</td>\n    </tr>\n    <tr>\n      <th>2175</th>\n      <td>дром хабаровск</td>\n      <td>98361</td>\n      <td>Дальний Восток</td>\n    </tr>\n    <tr>\n      <th>2398</th>\n      <td>авито мурманск</td>\n      <td>89787</td>\n      <td>Северо-Запад</td>\n    </tr>\n    <tr>\n      <th>2550</th>\n      <td>банк санкт петербург интернет банк</td>\n      <td>89123</td>\n      <td>Северо-Запад</td>\n    </tr>\n    <tr>\n      <th>2806</th>\n      <td>циан недвижимость москва</td>\n      <td>78729</td>\n      <td>Центр</td>\n    </tr>\n    <tr>\n      <th>2974</th>\n      <td>авто ру санкт петербург</td>\n      <td>74918</td>\n      <td>Северо-Запад</td>\n    </tr>\n    <tr>\n      <th>3206</th>\n      <td>дром владивосток</td>\n      <td>73084</td>\n      <td>Дальний Восток</td>\n    </tr>\n    <tr>\n      <th>3275</th>\n      <td>100 сп владивосток</td>\n      <td>76418</td>\n      <td>Дальний Восток</td>\n    </tr>\n    <tr>\n      <th>3687</th>\n      <td>авито хабаровск</td>\n      <td>63736</td>\n      <td>Дальний Восток</td>\n    </tr>\n    <tr>\n      <th>3786</th>\n      <td>метро москва</td>\n      <td>68024</td>\n      <td>Центр</td>\n    </tr>\n    <tr>\n      <th>4888</th>\n      <td>перекресток акции москва каталог сегодня</td>\n      <td>48619</td>\n      <td>Центр</td>\n    </tr>\n    <tr>\n      <th>5013</th>\n      <td>фк спартак москва</td>\n      <td>49699</td>\n      <td>Центр</td>\n    </tr>\n    <tr>\n      <th>5434</th>\n      <td>авто ру москва</td>\n      <td>46991</td>\n      <td>Центр</td>\n    </tr>\n    <tr>\n      <th>5512</th>\n      <td>схема метро москва</td>\n      <td>62915</td>\n      <td>Центр</td>\n    </tr>\n    <tr>\n      <th>5642</th>\n      <td>погода псков</td>\n      <td>47395</td>\n      <td>Северо-Запад</td>\n    </tr>\n    <tr>\n      <th>5671</th>\n      <td>avito санкт петербург</td>\n      <td>44214</td>\n      <td>Северо-Запад</td>\n    </tr>\n    <tr>\n      <th>5700</th>\n      <td>холодильник ру интернет магазин москва</td>\n      <td>44385</td>\n      <td>Центр</td>\n    </tr>\n    <tr>\n      <th>5768</th>\n      <td>спартак москва</td>\n      <td>43656</td>\n      <td>Центр</td>\n    </tr>\n    <tr>\n      <th>5825</th>\n      <td>петрович санкт петербург каталог товаров</td>\n      <td>43280</td>\n      <td>Северо-Запад</td>\n    </tr>\n    <tr>\n      <th>5836</th>\n      <td>мфц москва официальный сайт</td>\n      <td>43534</td>\n      <td>Центр</td>\n    </tr>\n    <tr>\n      <th>5858</th>\n      <td>владивосток</td>\n      <td>43038</td>\n      <td>Дальний Восток</td>\n    </tr>\n    <tr>\n      <th>5983</th>\n      <td>москва третий рим</td>\n      <td>43182</td>\n      <td>Центр</td>\n    </tr>\n    <tr>\n      <th>6075</th>\n      <td>ярославль</td>\n      <td>41720</td>\n      <td>Центр</td>\n    </tr>\n    <tr>\n      <th>6093</th>\n      <td>авито москва авто с пробегом</td>\n      <td>74402</td>\n      <td>Центр</td>\n    </tr>\n    <tr>\n      <th>6260</th>\n      <td>фарпост хабаровск</td>\n      <td>40962</td>\n      <td>Дальний Восток</td>\n    </tr>\n    <tr>\n      <th>6338</th>\n      <td>индекс по адресу москва</td>\n      <td>41260</td>\n      <td>Центр</td>\n    </tr>\n    <tr>\n      <th>6425</th>\n      <td>слетать ру санкт петербург</td>\n      <td>39652</td>\n      <td>Северо-Запад</td>\n    </tr>\n    <tr>\n      <th>6644</th>\n      <td>бандитский петербург</td>\n      <td>38766</td>\n      <td>Северо-Запад</td>\n    </tr>\n    <tr>\n      <th>6735</th>\n      <td>мединфо ярославль</td>\n      <td>38436</td>\n      <td>Центр</td>\n    </tr>\n    <tr>\n      <th>6999</th>\n      <td>москва 24</td>\n      <td>37459</td>\n      <td>Центр</td>\n    </tr>\n    <tr>\n      <th>7090</th>\n      <td>гисметео ярославль</td>\n      <td>37008</td>\n      <td>Центр</td>\n    </tr>\n    <tr>\n      <th>7103</th>\n      <td>москва сити</td>\n      <td>37022</td>\n      <td>Центр</td>\n    </tr>\n    <tr>\n      <th>7339</th>\n      <td>москва слезам не верит</td>\n      <td>35857</td>\n      <td>Центр</td>\n    </tr>\n    <tr>\n      <th>7412</th>\n      <td>госуслуги москва pgu mos ru</td>\n      <td>35611</td>\n      <td>Центр</td>\n    </tr>\n    <tr>\n      <th>7838</th>\n      <td>пятерочка акции москва каталог сегодня</td>\n      <td>35066</td>\n      <td>Центр</td>\n    </tr>\n    <tr>\n      <th>7881</th>\n      <td>авито ру санкт петербург авто с пробегом</td>\n      <td>33639</td>\n      <td>Северо-Запад</td>\n    </tr>\n    <tr>\n      <th>8132</th>\n      <td>москва погода</td>\n      <td>151701</td>\n      <td>Центр</td>\n    </tr>\n    <tr>\n      <th>8150</th>\n      <td>hh ru работа санкт петербург</td>\n      <td>32742</td>\n      <td>Северо-Запад</td>\n    </tr>\n    <tr>\n      <th>8463</th>\n      <td>время москва</td>\n      <td>39941</td>\n      <td>Центр</td>\n    </tr>\n  </tbody>\n</table>\n</div>"
     },
     "execution_count": 10,
     "metadata": {},
     "output_type": "execute_result"
    }
   ],
   "source": [
    "region_dict = {'Центр': ['москва', 'тула', 'ярославль'],\n",
    "                   'Северо-Запад': ['петербург', 'псков', 'мурманск'],\n",
    "                   'Дальний Восток': ['владивосток', 'сахалин', 'хабаровск']}\n",
    "def region_define(query):\n",
    "    \"\"\"Defines region if there is a city name in search query\"\"\"\n",
    "\n",
    "    for word in query.split(' '): # splitting search query into list\n",
    "        for region in region_dict.keys(): # iterating through region_dict keys\n",
    "            if word in region_dict[region]: # checking if word in query is in region_dict values\n",
    "                return region\n",
    "\n",
    "    return 'undefined'\n",
    "\n",
    "df_keywords['region'] = df_keywords['keyword'].apply(region_define)\n",
    "df_keywords[df_keywords['region'] != 'undefined'].head(50)"
   ]
  },
  {
   "cell_type": "markdown",
   "metadata": {},
   "source": [
    "## Excercise 3"
   ]
  },
  {
   "cell_type": "code",
   "execution_count": 7,
   "metadata": {
    "pycharm": {
     "name": "#%%\n"
    }
   },
   "outputs": [],
   "source": [
    "import regex as re"
   ]
  },
  {
   "cell_type": "code",
   "execution_count": 8,
   "metadata": {
    "pycharm": {
     "name": "#%%\n"
    }
   },
   "outputs": [],
   "source": [
    "df_movies = pd.read_csv('src/movies.csv')\n",
    "df_ratings = pd.read_csv('src/ratings.csv')"
   ]
  },
  {
   "cell_type": "code",
   "execution_count": 9,
   "metadata": {
    "pycharm": {
     "name": "#%%\n"
    }
   },
   "outputs": [
    {
     "data": {
      "text/plain": "        rating\nyear          \n2007  4.017647\n1952  3.851852\n1994  3.833333\n2008  3.819838\n2006  3.808429\n...        ...\n1988  3.152439\n1997  3.060150\n1986  2.884615\n1999  2.704633\n1998  2.688889\n\n[62 rows x 1 columns]",
      "text/html": "<div>\n<style scoped>\n    .dataframe tbody tr th:only-of-type {\n        vertical-align: middle;\n    }\n\n    .dataframe tbody tr th {\n        vertical-align: top;\n    }\n\n    .dataframe thead th {\n        text-align: right;\n    }\n</style>\n<table border=\"1\" class=\"dataframe\">\n  <thead>\n    <tr style=\"text-align: right;\">\n      <th></th>\n      <th>rating</th>\n    </tr>\n    <tr>\n      <th>year</th>\n      <th></th>\n    </tr>\n  </thead>\n  <tbody>\n    <tr>\n      <th>2007</th>\n      <td>4.017647</td>\n    </tr>\n    <tr>\n      <th>1952</th>\n      <td>3.851852</td>\n    </tr>\n    <tr>\n      <th>1994</th>\n      <td>3.833333</td>\n    </tr>\n    <tr>\n      <th>2008</th>\n      <td>3.819838</td>\n    </tr>\n    <tr>\n      <th>2006</th>\n      <td>3.808429</td>\n    </tr>\n    <tr>\n      <th>...</th>\n      <td>...</td>\n    </tr>\n    <tr>\n      <th>1988</th>\n      <td>3.152439</td>\n    </tr>\n    <tr>\n      <th>1997</th>\n      <td>3.060150</td>\n    </tr>\n    <tr>\n      <th>1986</th>\n      <td>2.884615</td>\n    </tr>\n    <tr>\n      <th>1999</th>\n      <td>2.704633</td>\n    </tr>\n    <tr>\n      <th>1998</th>\n      <td>2.688889</td>\n    </tr>\n  </tbody>\n</table>\n<p>62 rows × 1 columns</p>\n</div>"
     },
     "execution_count": 9,
     "metadata": {},
     "output_type": "execute_result"
    }
   ],
   "source": [
    "def production_year(title):\n",
    "    \"\"\"Returns film release year if it is mentioned in its title\"\"\"\n",
    "\n",
    "    release_year = re.search(r'\\d{4}', title) # searching for 4-digit year in movie title\n",
    "\n",
    "    if release_year is not None: # if year is found\n",
    "        if 1950 <= int(release_year.group()) <= 2010:\n",
    "            return int(release_year.group())\n",
    "        else:\n",
    "            return 1900\n",
    "\n",
    "    return 1900 # if year is not found in title\n",
    "\n",
    "df_movies['year'] = df_movies['title'].apply(production_year)\n",
    "df_movies.join(df_ratings, rsuffix='_right').groupby('year').agg({'rating':'mean'}).sort_values(by='rating', ascending=False)"
   ]
  },
  {
   "cell_type": "code",
   "execution_count": null,
   "outputs": [],
   "source": [],
   "metadata": {
    "collapsed": false,
    "pycharm": {
     "name": "#%%\n"
    }
   }
  }
 ],
 "metadata": {
  "kernelspec": {
   "display_name": "Python 3",
   "language": "python",
   "name": "python3"
  },
  "language_info": {
   "codemirror_mode": {
    "name": "ipython",
    "version": 3
   },
   "file_extension": ".py",
   "mimetype": "text/x-python",
   "name": "python",
   "nbconvert_exporter": "python",
   "pygments_lexer": "ipython3",
   "version": "3.8.5"
  }
 },
 "nbformat": 4,
 "nbformat_minor": 1
}